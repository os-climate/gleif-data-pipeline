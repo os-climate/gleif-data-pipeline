{
 "cells": [
  {
   "cell_type": "markdown",
   "id": "3806729e-a26d-4351-bf97-0334363de862",
   "metadata": {},
   "source": [
    "# Load GLEIF Data from public repository on AWS (s3://gleif/)\n",
    "Copyright (C) 2021 OS-Climate\n",
    "\n",
    "Permission is hereby granted, free of charge, to any person obtaining a copy of this software and associated documentation files (the \"Software\"), to deal in the Software without restriction, including without limitation the rights to use, copy, modify, merge, publish, distribute, sublicense, and/or sell copies of the Software, and to permit persons to whom the Software is furnished to do so, subject to the following conditions:\n",
    "\n",
    "The above copyright notice and this permission notice shall be included in all copies or substantial portions of the Software.\n",
    "\n",
    "THE SOFTWARE IS PROVIDED \"AS IS\", WITHOUT WARRANTY OF ANY KIND, EXPRESS OR IMPLIED, INCLUDING BUT NOT LIMITED TO THE WARRANTIES OF MERCHANTABILITY, FITNESS FOR A PARTICULAR PURPOSE AND NONINFRINGEMENT. IN NO EVENT SHALL THE AUTHORS OR COPYRIGHT HOLDERS BE LIABLE FOR ANY CLAIM, DAMAGES OR OTHER LIABILITY, WHETHER IN AN ACTION OF CONTRACT, TORT OR OTHERWISE, ARISING FROM, OUT OF OR IN CONNECTION WITH THE SOFTWARE OR THE USE OR OTHER DEALINGS IN THE SOFTWARE."
   ]
  },
  {
   "cell_type": "code",
   "execution_count": null,
   "id": "a3583685-ca11-45d4-9b48-bd2c18fe3012",
   "metadata": {},
   "outputs": [],
   "source": [
    "# pip install boto3\n",
    "# pip install python-dotenv\n",
    "# pip install trino\n",
    "# pip install pandas\n",
    "# pip install anytree\n",
    "# pip install sqlalchemy\n",
    "# pip install sqlalchemy-trino\n",
    "# pip install osc-ingest-tools"
   ]
  },
  {
   "cell_type": "code",
   "execution_count": null,
   "id": "5aa35cff-49a9-4285-8e99-c1877d0e4e47",
   "metadata": {},
   "outputs": [],
   "source": [
    "from dotenv import dotenv_values, load_dotenv\n",
    "import os\n",
    "import pathlib\n",
    "import boto3\n",
    "from botocore import UNSIGNED\n",
    "from botocore.client import Config\n",
    "import pandas as pd\n",
    "import trino\n",
    "import io\n",
    "import zipfile\n",
    "import anytree\n",
    "import osc_ingest_trino as osc"
   ]
  },
  {
   "cell_type": "code",
   "execution_count": null,
   "id": "339e778c-9c64-479d-b119-1597c179b624",
   "metadata": {},
   "outputs": [],
   "source": [
    "# Use unsigned access to public S3 resource for GLEIF bucket\n",
    "s3_resource = boto3.resource(\n",
    "    service_name=\"s3\",\n",
    "    config=Config(signature_version=UNSIGNED),\n",
    ")\n",
    "bucket = s3_resource.Bucket(\"gleif\")"
   ]
  },
  {
   "cell_type": "code",
   "execution_count": null,
   "id": "f3ccbbe2-44e1-4a18-80a8-bf097bf3a66e",
   "metadata": {},
   "outputs": [],
   "source": [
    "# Retrieve latest LEI data set\n",
    "LEI_data_sets = []\n",
    "for obj in bucket.objects.filter(Prefix=\"data/csv/rr/\"):\n",
    "    LEI_data_sets.append(obj.key)\n",
    "print(f\"Fetched data sets: {len(LEI_data_sets)}\")\n",
    "current_rr_data_set = LEI_data_sets[len(LEI_data_sets) - 1]\n",
    "date_str_data, time_str_data = tuple(current_rr_data_set.split(\"/\")[-1].split(\"-\")[:2])"
   ]
  },
  {
   "cell_type": "code",
   "execution_count": null,
   "id": "55ae5e01-e471-4d59-9a4b-728cfaf6d4d5",
   "metadata": {},
   "outputs": [],
   "source": [
    "from botocore import UNSIGNED\n",
    "from botocore.config import Config\n",
    "\n",
    "client = boto3.client(\n",
    "    \"s3\", config=Config(signature_version=UNSIGNED)\n",
    ")  # low-level functional API\n",
    "obj = client.get_object(Bucket=\"gleif\", Key=current_rr_data_set)\n",
    "\n",
    "list_hierarchy_relevant_columns = [\n",
    "    \"Relationship.RelationshipType\",\n",
    "    \"Relationship.StartNode.NodeID\",\n",
    "    \"Relationship.EndNode.NodeID\",\n",
    "    \"Relationship.RelationshipStatus\",\n",
    "]\n",
    "\n",
    "pd_rr_data_set = pd.read_csv(\n",
    "    obj[\"Body\"], usecols=list_hierarchy_relevant_columns, compression=\"gzip\"\n",
    ").convert_dtypes()"
   ]
  },
  {
   "cell_type": "markdown",
   "id": "eda72ff7-3650-41dc-a972-c7976e5639bf",
   "metadata": {},
   "source": [
    "# Definition of necessary data processing functions"
   ]
  },
  {
   "cell_type": "code",
   "execution_count": null,
   "id": "87057fec-d2b0-49b3-a9ae-879df6059944",
   "metadata": {},
   "outputs": [],
   "source": [
    "def _create_issuer_lei_mapping(\n",
    "    pd_input: pd.DataFrame, relationship_type: str, end_node_key: str\n",
    ") -> pd.DataFrame:\n",
    "\n",
    "    df_mask = (pd_input[\"Relationship.RelationshipStatus\"] == \"ACTIVE\") & (\n",
    "        pd_input[\"Relationship.RelationshipType\"] == relationship_type\n",
    "    )\n",
    "    dict_key_renaming = {\n",
    "        \"Relationship.StartNode.NodeID\": \"DIRECT_ISSUER_LEI\",\n",
    "        \"Relationship.EndNode.NodeID\": end_node_key,\n",
    "    }\n",
    "\n",
    "    return pd_input.rename(columns=dict_key_renaming)[dict_key_renaming.values()][\n",
    "        df_mask\n",
    "    ]\n",
    "\n",
    "\n",
    "def create_ultimate_issuer_lei_mapping(pd_input: pd.DataFrame) -> pd.DataFrame:\n",
    "\n",
    "    return _create_issuer_lei_mapping(\n",
    "        pd_input,\n",
    "        relationship_type=\"IS_ULTIMATELY_CONSOLIDATED_BY\",\n",
    "        end_node_key=\"ULTIMATE_PARENT_ISSUER_LEI\",\n",
    "    )\n",
    "\n",
    "\n",
    "def create_direct_parent_issuer_lei_mapping(pd_input: pd.DataFrame) -> pd.DataFrame:\n",
    "\n",
    "    return _create_issuer_lei_mapping(\n",
    "        pd_input,\n",
    "        relationship_type=\"IS_DIRECTLY_CONSOLIDATED_BY\",\n",
    "        end_node_key=\"DIRECT_PARENT_ISSUER_LEI\",\n",
    "    )\n",
    "\n",
    "\n",
    "def add_hierarchy_level_to_nodes(\n",
    "    list_unassigned_relationships: list, hierarchy_level: int, dict_nodes: dict\n",
    ") -> bool:\n",
    "    \"\"\"\n",
    "    Recursive function, which matches the most recent version of the tree with a list of currently\n",
    "    unassigned directly consolidated relationships.\n",
    "    Loops through the hierarchy levels, takes the most recent version of the tree and checks if in the tree there are potential parents\n",
    "    of directly consolidated entities in the current list of unassigned directly consolidated\n",
    "    -> If a parent is found, the relationship is appended to the tree and popped from the list of unassigned relationships\n",
    "    \"\"\"\n",
    "    list_remaining_unassigned_relationships = []\n",
    "    amount_initially_unassigned_entities = len(list_unassigned_relationships)\n",
    "    print(f\"Hierarchy_level {hierarchy_level}\")\n",
    "\n",
    "    for unassigned_relationship_tuple in list_unassigned_relationships:\n",
    "        # Check if there direct parent issuer is already allocated in the tree structure,\n",
    "        # otherwise try again in the next call of the function\n",
    "        if (\n",
    "            unassigned_relationship_tuple[1] in dict_nodes.keys()\n",
    "            and unassigned_relationship_tuple[0] != unassigned_relationship_tuple[1]\n",
    "        ):\n",
    "            parent_node = dict_nodes.get(unassigned_relationship_tuple[1])\n",
    "            if (\n",
    "                unassigned_relationship_tuple[0] in dict_nodes.keys()\n",
    "            ):  # LEI was already assigned\n",
    "                try:\n",
    "                    # Overwrite the previous parent attribute in the node with a new one\n",
    "                    dict_nodes.get(\n",
    "                        unassigned_relationship_tuple[0]\n",
    "                    ).parent = parent_node\n",
    "                except:\n",
    "                    print(\n",
    "                        f\"Unable to change parent for {unassigned_relationship_tuple[0]}\"\n",
    "                    )\n",
    "                    list_remaining_unassigned_relationships.append(\n",
    "                        unassigned_relationship_tuple\n",
    "                    )\n",
    "            else:\n",
    "                # assign new parent child relationship in the tree structure\n",
    "                dict_nodes[unassigned_relationship_tuple[0]] = anytree.Node(\n",
    "                    unassigned_relationship_tuple[0], parent=parent_node\n",
    "                )\n",
    "        else:\n",
    "            list_remaining_unassigned_relationships.append(\n",
    "                unassigned_relationship_tuple\n",
    "            )\n",
    "\n",
    "    # Terminate iff there was no mutation in the tree structure since the last function call,\n",
    "    # call function recursively otherwise\n",
    "    if amount_initially_unassigned_entities == len(\n",
    "        list_remaining_unassigned_relationships\n",
    "    ):\n",
    "        print(\n",
    "            f\"Remaining {len(list_remaining_unassigned_relationships)} could not be assigned to the tree\"\n",
    "        )\n",
    "        return True\n",
    "    else:\n",
    "        add_hierarchy_level_to_nodes(\n",
    "            list_unassigned_relationships=list_remaining_unassigned_relationships,\n",
    "            hierarchy_level=hierarchy_level + 1,\n",
    "            dict_nodes=dict_nodes,\n",
    "        )\n",
    "\n",
    "\n",
    "def create_company_hierarchy_tree_structure(pd_input: pd.DataFrame):\n",
    "\n",
    "    list_tuple_ultimate_issuer_relationship = create_ultimate_issuer_lei_mapping(\n",
    "        pd_rr_data_set\n",
    "    ).to_records(index=False)\n",
    "\n",
    "    list_tuple_direct_parent_issuer_relationship = (\n",
    "        create_direct_parent_issuer_lei_mapping(pd_rr_data_set).to_records(index=False)\n",
    "    )\n",
    "\n",
    "    list_direct_issuer_LEI, list_ultimate_issuer_LEI = zip(\n",
    "        *list_tuple_ultimate_issuer_relationship\n",
    "    )\n",
    "\n",
    "    root = anytree.Node(\"root\")\n",
    "\n",
    "    tmp_dict_nodes = (\n",
    "        {}\n",
    "    )  # this dict is used as a performant hashmap lookup table to the nodes to avoid\n",
    "    # using the native search function of anytree which loops through the entire tree\n",
    "\n",
    "    for ultimate_issuer_lei in set(list_ultimate_issuer_LEI):\n",
    "        tmp_dict_nodes[ultimate_issuer_lei] = anytree.Node(\n",
    "            ultimate_issuer_lei, parent=root\n",
    "        )\n",
    "\n",
    "    # Some relationships in the GLEIF data are exclusively entered as an ultimate issuer relationship and not also\n",
    "    # as a directly consolidated relationship. To build a complete dataset and also include those we take the following approach:\n",
    "    # initially we assume all ultimate issuer relationships also as directly consolidated relationships. In a subsequent\n",
    "    # process step this assumption is checked:\n",
    "    # we overwrite the initially assumed direct relationship to the ultimate issuer with the more specific data from\n",
    "    # the direct issuer relationship dataset:\n",
    "    #   - Case1: There is no entry in the directly consolidated issuer relationship,\n",
    "    #            meaning the assumed relationship was correct\n",
    "    #   - Case2: There is an entry in the directly consolidated issuer relationship: We delete the initially assumed\n",
    "    #            entry and replace it with the more specific one\n",
    "    for relationship_tuple in list_tuple_ultimate_issuer_relationship:\n",
    "        parent_node = tmp_dict_nodes.get(relationship_tuple[1])\n",
    "        tmp_dict_nodes[relationship_tuple[0]] = anytree.Node(\n",
    "            relationship_tuple[0], parent=parent_node\n",
    "        )\n",
    "\n",
    "    add_hierarchy_level_to_nodes(\n",
    "        list_unassigned_relationships=list_tuple_direct_parent_issuer_relationship,\n",
    "        hierarchy_level=1,\n",
    "        dict_nodes=tmp_dict_nodes,\n",
    "    )\n",
    "    return root"
   ]
  },
  {
   "cell_type": "code",
   "execution_count": null,
   "id": "8b706ed0-2070-486e-9a7f-fe9ba5bacf97",
   "metadata": {},
   "outputs": [],
   "source": [
    "def rename_recursive_key_dicts(\n",
    "    dict_to_rename: dict, dict_of_key_old_to_new, new_name_dict_holder_key: str\n",
    ") -> None:\n",
    "\n",
    "    for old_key, new_key in dict_of_key_old_to_new.items():\n",
    "        if old_key in dict_to_rename.keys():\n",
    "            dict_to_rename[new_key] = dict_to_rename.pop(old_key)\n",
    "\n",
    "    # after renaming\n",
    "    if new_name_dict_holder_key in dict_to_rename.keys():\n",
    "        list_dict_holder = dict_to_rename.get(new_name_dict_holder_key)\n",
    "        for held_dict in list_dict_holder:\n",
    "            rename_recursive_key_dicts(\n",
    "                dict_to_rename=held_dict,\n",
    "                dict_of_key_old_to_new=dict_of_key_old_to_new,\n",
    "                new_name_dict_holder_key=new_name_dict_holder_key,\n",
    "            )\n",
    "\n",
    "\n",
    "def add_recursive_key_to_dict(\n",
    "    dict_to_add_to: dict, key_to_add: str,\n",
    "    value_to_add: int, name_dict_holder_key: str\n",
    "):\n",
    "    \"\"\"\n",
    "    Increments the value of key_to_add by one\n",
    "    \"\"\"\n",
    "    dict_to_add_to[key_to_add] = value_to_add\n",
    "\n",
    "    if name_dict_holder_key in dict_to_add_to.keys():\n",
    "        list_dict_holder = dict_to_add_to.get(name_dict_holder_key)\n",
    "        for held_dict in list_dict_holder:\n",
    "            add_recursive_key_to_dict(\n",
    "                dict_to_add_to=held_dict,\n",
    "                key_to_add=key_to_add,\n",
    "                value_to_add=value_to_add + 1,\n",
    "                name_dict_holder_key=name_dict_holder_key,\n",
    "            )"
   ]
  },
  {
   "cell_type": "markdown",
   "id": "68b44055-8bd9-4f63-9b01-d7f8f8d20d5f",
   "metadata": {},
   "source": [
    "# Creating data set for ultimate issuer LEI mapping"
   ]
  },
  {
   "cell_type": "code",
   "execution_count": null,
   "id": "2799f4a4-13a9-435d-bc36-e68daecd73b3",
   "metadata": {},
   "outputs": [],
   "source": [
    "df_ultimate_issuer_relationship_LEI = create_ultimate_issuer_lei_mapping(pd_rr_data_set)\n",
    "\n",
    "str_timestamp = f'{date_str_data[:4]}-{date_str_data[4:6]}-{date_str_data[6:]}T{time_str_data[:2]}'\n",
    "data_time_stamp = pd.Timestamp(str_timestamp, tz='UTC')\n",
    "\n",
    "df_ultimate_issuer_relationship_LEI[\"time_stamp\"] = data_time_stamp\n",
    "df_ultimate_issuer_relationship_LEI = df_ultimate_issuer_relationship_LEI.convert_dtypes()\n",
    "df_ultimate_issuer_relationship_LEI = osc_ingest_trino.enforce_sql_column_names(\n",
    "    df_ultimate_issuer_relationship_LEI)"
   ]
  },
  {
   "cell_type": "markdown",
   "id": "501bf4e8-120f-407e-afad-6313fb7428da",
   "metadata": {},
   "source": [
    "# Creating data set for ISIN to LEI mapping\n",
    "So far there is no access to the data via the GLEIF AWS bucket / this will hopefully change in the future"
   ]
  },
  {
   "cell_type": "code",
   "execution_count": null,
   "id": "4d665794-fb45-4cba-b883-86375c047add",
   "metadata": {},
   "outputs": [],
   "source": [
    "url_gleif_isin_LEI = \"https://isinmapping.gleif.org/api/v2/isin-lei/4012/download\"\n",
    "tmp_file_name = \"isin-lei-20220409T070350.zip\"\n",
    "\n",
    "df_mapping_LEI_ISIN = pd.read_csv(url_gleif_isin_LEI, compression=\"zip\")\n",
    "\n",
    "str_timestamp = f'{date_str_data[:4]}-{date_str_data[4:6]}-{date_str_data[6:]}T{time_str_data[:2]}'\n",
    "data_time_stamp = pd.Timestamp(str_timestamp, tz='UTC')\n",
    "\n",
    "df_mapping_LEI_ISIN[\"time_stamp\"] = data_time_stamp\n",
    "df_mapping_LEI_ISIN = df_mapping_LEI_ISIN.convert_dtypes()\n",
    "df_mapping_LEI_ISIN = osc_ingest_trino.enforce_sql_column_names(\n",
    "    df_mapping_LEI_ISIN)"
   ]
  },
  {
   "cell_type": "markdown",
   "id": "2b7529b9-7928-4955-b42f-517884bf7076",
   "metadata": {},
   "source": [
    "# Creating data set for company hierarchy tree"
   ]
  },
  {
   "cell_type": "code",
   "execution_count": null,
   "id": "1767f5f0-e97f-468f-ab51-f06c28b128d8",
   "metadata": {},
   "outputs": [],
   "source": [
    "anytree_root = create_company_hierarchy_tree_structure(pd_rr_data_set)\n",
    "\n",
    "from anytree.exporter import DictExporter\n",
    "\n",
    "exporter = DictExporter()\n",
    "\n",
    "dict_anytree_formating = exporter.export(anytree_root)\n",
    "\n",
    "# Renaming for better readability\n",
    "dict_key_renaming = {\"name\": \"entity_LEI\", \"children\": \"entity_children\"}\n",
    "rename_recursive_key_dicts(\n",
    "    dict_to_rename=dict_anytree_formating,\n",
    "    dict_of_key_old_to_new=dict_key_renaming,\n",
    "    new_name_dict_holder_key=\"entity_children\",\n",
    ")\n",
    "add_recursive_key_to_dict(\n",
    "    dict_to_add_to=dict_anytree_formating,\n",
    "    key_to_add=\"entity_hierarchy_level\",\n",
    "    value_to_add=-1,\n",
    "    name_dict_holder_key=\"entity_children\",\n",
    ")\n",
    "\n",
    "list_hierarchy_items = dict_anytree_formating.get(\"entity_children\")\n",
    "\n",
    "import json\n",
    "\n",
    "json_hierarchy_file = f\"{date_str_data}_{time_str_data}_company_hierarchy_tree.json\"\n",
    "\n",
    "with open(f\"/tmp/{json_hierarchy_file}\", \"w\") as file:\n",
    "    json.dump(list_hierarchy_items, file)"
   ]
  },
  {
   "cell_type": "markdown",
   "id": "94355c14-cfb9-4d64-acb1-df2b1209f677",
   "metadata": {},
   "source": [
    "# Create an S3 client to upload the data to a S3 bucket"
   ]
  },
  {
   "cell_type": "code",
   "execution_count": null,
   "id": "52ccdb74-957c-4fc6-85d4-5e8c018c8705",
   "metadata": {},
   "outputs": [],
   "source": [
    "dotenv_dir = os.environ.get(\n",
    "    \"CREDENTIAL_DOTENV_DIR\", os.environ.get(\"PWD\", \"/opt/app-root/src\")\n",
    ")\n",
    "\n",
    "dotenv_path = pathlib.Path(dotenv_dir) / \"credentials.env\"\n",
    "if os.path.exists(dotenv_path):\n",
    "    load_dotenv(dotenv_path=dotenv_path, override=True)"
   ]
  },
  {
   "cell_type": "code",
   "execution_count": null,
   "id": "a1129f2f-8001-4298-beeb-85a3c5333c96",
   "metadata": {},
   "outputs": [],
   "source": [
    "# Create an S3 client to upload the files\n",
    "s3 = boto3.client(\n",
    "    service_name=\"s3\",\n",
    "    endpoint_url=os.environ[\"S3_DEV_ENDPOINT\"],\n",
    "    aws_access_key_id=os.environ[\"S3_DEV_ACCESS_KEY\"],\n",
    "    aws_secret_access_key=os.environ[\"S3_DEV_SECRET_KEY\"],\n",
    ")\n",
    "\n",
    "# This affects both upload location and SQL schema/catalog information\n",
    "gleif_schema = \"sandbox\""
   ]
  },
  {
   "cell_type": "markdown",
   "id": "ea87bcc9-fd78-4f47-a7d1-a4c12d4d161b",
   "metadata": {},
   "source": [
    "# Upload data set ultimate issuer LEI mapping to S3"
   ]
  },
  {
   "cell_type": "code",
   "execution_count": null,
   "id": "189ce4b0-bd6b-4247-bdb2-acc8cabe3e11",
   "metadata": {},
   "outputs": [],
   "source": [
    "df_ultimate_issuer_relationship_LEI.info(verbose=True)\n",
    "\n",
    "if False:\n",
    "    tmp_file_name = f\"{date_str_data}_{time_str_data}_ultimate_issuer_LEI_mapping.parquet\"\n",
    "\n",
    "    df_ultimate_issuer_relationship_LEI.to_parquet(f\"/tmp/{tmp_file_name}\", index=False)\n",
    "\n",
    "    s3.upload_file(\n",
    "        Bucket=os.environ[\"S3_DEV_BUCKET\"],\n",
    "        Key=f\"trino/{gleif_schema}/date={date_str_data}/time={time_str_data}/ultimateissuer/{tmp_file_name}\",\n",
    "        Filename=f\"/tmp/{tmp_file_name}\",\n",
    "    )"
   ]
  },
  {
   "cell_type": "markdown",
   "id": "66be9d62-7b17-4292-97cf-dbfee15352d9",
   "metadata": {},
   "source": [
    "# Upload data set ISIN LEI mapping to S3"
   ]
  },
  {
   "cell_type": "code",
   "execution_count": null,
   "id": "66fbac91-5db6-49d7-a42e-83f776b47048",
   "metadata": {},
   "outputs": [],
   "source": [
    "df_mapping_LEI_ISIN.info(verbose=True)\n",
    "\n",
    "if False:\n",
    "    tmp_file_name = f\"{date_str_data}_{time_str_data}_ISIN_LEI_mapping.parquet\"\n",
    "\n",
    "    df_mapping_LEI_ISIN.to_parquet(f\"/tmp/{tmp_file_name}\", index=False)\n",
    "\n",
    "    s3.upload_file(\n",
    "        Bucket=os.environ[\"S3_DEV_BUCKET\"],\n",
    "        Key=f\"trino/{gleif_schema}/date={date_str_data}/time={time_str_data}/isinlei/{tmp_file_name}\",\n",
    "        Filename=f\"/tmp/{tmp_file_name}\",\n",
    "    )"
   ]
  },
  {
   "cell_type": "markdown",
   "id": "9b693ebb-1601-49c1-aa9f-e48f18d14540",
   "metadata": {},
   "source": [
    "# Upload data set company hierarchy tree to S3"
   ]
  },
  {
   "cell_type": "code",
   "execution_count": null,
   "id": "20dec119-9d32-4cd9-b816-e9d5bcd92735",
   "metadata": {},
   "outputs": [],
   "source": [
    "if False:\n",
    "    s3.upload_file(\n",
    "        Bucket=os.environ[\"S3_DEV_BUCKET\"],\n",
    "        Key=f\"trino/{gleif_schema}/date={date_str_data}/time={time_str_data}/companyhierarchy/{json_hierarchy_file}\",\n",
    "        Filename=f\"/tmp/{json_hierarchy_file}\",\n",
    "    )"
   ]
  },
  {
   "cell_type": "markdown",
   "id": "7847a0a0-a54b-456a-81bc-c36ab601e7f7",
   "metadata": {},
   "source": [
    "# Establish SQLAlchemy connection to Trino"
   ]
  },
  {
   "cell_type": "code",
   "execution_count": null,
   "id": "73a0efcc-c286-44fc-aa65-a184c4175427",
   "metadata": {},
   "outputs": [],
   "source": [
    "import trino\n",
    "from sqlalchemy.engine import create_engine\n",
    "\n",
    "ingest_catalog = 'osc_datacommons_dev'\n",
    "gleif_schema = 'sandbox'\n",
    "\n",
    "env_var_prefix = 'TRINO'\n",
    "\n",
    "sqlstring = 'trino://{user}@{host}:{port}/'.format(\n",
    "    user = os.environ[f'{env_var_prefix}_USER'],\n",
    "    host = os.environ[f'{env_var_prefix}_HOST'],\n",
    "    port = os.environ[f'{env_var_prefix}_PORT']\n",
    ")\n",
    "sqlargs = {\n",
    "    'auth': trino.auth.JWTAuthentication(os.environ[f'{env_var_prefix}_PASSWD']),\n",
    "    'http_scheme': 'https',\n",
    "    'catalog': ingest_catalog,\n",
    "    'schema': gleif_schema,\n",
    "}\n",
    "engine = create_engine(sqlstring, connect_args = sqlargs)\n",
    "connection = engine.connect()\n",
    "\n",
    "# Define tablenames to use\n",
    "tablename_isin_lei = \"gleif_isin_lei\"\n",
    "tablename_direct_issuer_ultimate_issuer = \"gleif_direct_issuer_ultimate_issuer\""
   ]
  },
  {
   "cell_type": "code",
   "execution_count": null,
   "id": "3a698b36-b8b0-4bc5-ae9b-6f1bcdbae327",
   "metadata": {},
   "outputs": [],
   "source": [
    "# Show available schemas to ensure trino connection is set correctly\n",
    "qres = engine.execute(\"show schemas\")\n",
    "qres.fetchall()"
   ]
  },
  {
   "cell_type": "raw",
   "id": "6a8e3993-9717-42b6-848a-c203b74a12cc",
   "metadata": {},
   "source": [
    "# Only permitted with admin status\n",
    "cur.execute(f\"create schema if not exists {gleif_schema}\")\n",
    "cur.fetchall()"
   ]
  },
  {
   "cell_type": "code",
   "execution_count": null,
   "id": "e9873bc5-579b-4ad6-b9cf-681b54b108d0",
   "metadata": {},
   "outputs": [],
   "source": [
    "# Dropping tables for ISIN/LEI mapping and Direct Issuer/Ultimate Issuer in case they exist already\n",
    "drop_table = engine.execute(f\"drop table if exists {gleif_schema}.{tablename_isin_lei}\")\n",
    "print(drop_table.fetchall())\n",
    "\n",
    "drop_table = engine.execute(f\"drop table if exists {gleif_schema}.{tablename_direct_issuer_ultimate_issuer}\")\n",
    "print(drop_table.fetchall())"
   ]
  },
  {
   "cell_type": "markdown",
   "id": "045dc05d-2759-4815-ac14-14fd204bcb0f",
   "metadata": {},
   "source": [
    "Create table for ISIN LEI mapping"
   ]
  },
  {
   "cell_type": "code",
   "execution_count": null,
   "id": "2353b8e3-1192-4bb6-858e-608331a60432",
   "metadata": {},
   "outputs": [],
   "source": [
    "column_schema = osc_ingest_trino.create_table_schema_pairs(df_mapping_LEI_ISIN, typemap={\"datetime64[ns, UTC]\":\"timestamp(6)\"})\n",
    "\n",
    "tabledef = f\"\"\"create table if not exists {gleif_schema}.{tablename_isin_lei}(\n",
    "{column_schema}\n",
    ") with (\n",
    "    partitioning = array['bucket(lei,20)'],\n",
    "    format = 'ORC'\n",
    ")\"\"\"\n",
    "\n",
    "print(tabledef)\n",
    "# tables created externally may not show up immediately in cloud-beaver\n",
    "create_table = engine.execute(tabledef)\n",
    "create_table.fetchall()"
   ]
  },
  {
   "cell_type": "code",
   "execution_count": null,
   "id": "dadf4bcf-97d8-4620-b2c6-2f877c7b96d1",
   "metadata": {},
   "outputs": [],
   "source": [
    "df_mapping_LEI_ISIN.to_sql(tablename_isin_lei,\n",
    "                           con=engine, schema=gleif_schema, if_exists='append',\n",
    "                           index=False,\n",
    "                           method=osc_ingest_trino.TrinoBatchInsert(batch_size=10000, verbose = False))"
   ]
  },
  {
   "cell_type": "markdown",
   "id": "f6eed032-4d94-484b-954d-f09f8692cb7a",
   "metadata": {},
   "source": [
    "Create table for issuer/ultimate issuer mapping"
   ]
  },
  {
   "cell_type": "code",
   "execution_count": null,
   "id": "dbf41c3c-2bc4-4dc4-821b-91dc579be933",
   "metadata": {},
   "outputs": [],
   "source": [
    "column_schema = osc_ingest_trino.create_table_schema_pairs(df_ultimate_issuer_relationship_LEI, typemap={\"datetime64[ns, UTC]\":\"timestamp(6)\"})\n",
    "\n",
    "tabledef = f\"\"\"create table if not exists {gleif_schema}.{tablename_direct_issuer_ultimate_issuer}(\n",
    "{column_schema}\n",
    ") with (\n",
    "    partitioning = array['bucket(direct_issuer_lei,20)'],\n",
    "    format = 'ORC'\n",
    ")\"\"\"\n",
    "\n",
    "print(tabledef)\n",
    "# tables created externally may not show up immediately in cloud-beaver\n",
    "create_table = engine.execute(tabledef)\n",
    "create_table.fetchall()"
   ]
  },
  {
   "cell_type": "code",
   "execution_count": null,
   "id": "060eb0f6-6257-4910-99c4-db09a1a60ead",
   "metadata": {},
   "outputs": [],
   "source": [
    "df_ultimate_issuer_relationship_LEI.to_sql(tablename_direct_issuer_ultimate_issuer,\n",
    "                                           con=engine, schema=gleif_schema, if_exists='append',\n",
    "                                           index=False,\n",
    "                                           method=osc_ingest_trino.TrinoBatchInsert(batch_size=10000, verbose = False))"
   ]
  },
  {
   "cell_type": "markdown",
   "id": "74690f5e-d505-4613-ab9f-8164d7d6ab3b",
   "metadata": {},
   "source": [
    "Testing connection"
   ]
  },
  {
   "cell_type": "code",
   "execution_count": null,
   "id": "7981a567-1bfe-44d5-ad90-35a5ffd44f09",
   "metadata": {},
   "outputs": [],
   "source": [
    "import trino\n",
    "from sqlalchemy.engine import create_engine\n",
    "\n",
    "sqlstring = \"trino://{user}@{host}:{port}/\".format(\n",
    "    user=os.environ[\"TRINO_USER\"],\n",
    "    host=os.environ[\"TRINO_HOST\"],\n",
    "    port=os.environ[\"TRINO_PORT\"],\n",
    ")\n",
    "sqlargs = {\n",
    "    \"auth\": trino.auth.JWTAuthentication(os.environ[\"TRINO_PASSWD\"]),\n",
    "    \"http_scheme\": \"https\",\n",
    "    \"catalog\": \"osc_datacommons_dev\",\n",
    "}\n",
    "engine = create_engine(sqlstring, connect_args=sqlargs)\n",
    "print(\"connecting with engine \" + str(engine))\n",
    "connection = engine.connect()\n",
    "\n",
    "df = pd.read_sql(\"show catalogs\", engine).convert_dtypes()\n",
    "df"
   ]
  },
  {
   "cell_type": "code",
   "execution_count": null,
   "id": "ac56a3dc-5813-453a-913c-c0f8b6120623",
   "metadata": {},
   "outputs": [],
   "source": [
    "engine.execute(f\"show tables in {gleif_schema}\").fetchall()"
   ]
  },
  {
   "cell_type": "code",
   "execution_count": null,
   "id": "eda964ed-97df-491d-81de-f98a2b67bf80",
   "metadata": {},
   "outputs": [],
   "source": [
    "engine.execute(f\"select count (*) from {gleif_schema}.gleif_direct_issuer_ultimate_issuer\").fetchall()"
   ]
  },
  {
   "cell_type": "code",
   "execution_count": null,
   "id": "1a65677e-e1a5-48c7-b24a-af62ea695896",
   "metadata": {},
   "outputs": [],
   "source": [
    "sqlquery = (\n",
    "    f\"select * from {gleif_schema}.{tablename_direct_issuer_ultimate_issuer}\"\n",
    ")\n",
    "\n",
    "df = pd.read_sql(sqlquery, engine).convert_dtypes()\n",
    "df"
   ]
  },
  {
   "cell_type": "code",
   "execution_count": null,
   "id": "9c0af988-3350-4433-9560-b8b5b2b5ba0e",
   "metadata": {},
   "outputs": [],
   "source": [
    "engine.execute(f\"select * from {gleif_schema}.{tablename_direct_issuer_ultimate_issuer} where direct_issuer_lei='1HNPXZSMMB7HMBMVBS46'\").fetchall()"
   ]
  },
  {
   "cell_type": "code",
   "execution_count": null,
   "id": "d4009107-6b1b-4144-b1c9-f7b71076099a",
   "metadata": {},
   "outputs": [],
   "source": [
    "engine.execute(f\"select * from {gleif_schema}.{tablename_direct_issuer_ultimate_issuer} where direct_issuer_lei='8YQ2GSDWYZXO2EDN3511'\").fetchall()"
   ]
  },
  {
   "cell_type": "code",
   "execution_count": null,
   "id": "4b17126f-25f2-4bdf-8166-aefdfb9689e3",
   "metadata": {},
   "outputs": [],
   "source": [
    "len(df_mapping_LEI_ISIN)"
   ]
  },
  {
   "cell_type": "code",
   "execution_count": null,
   "id": "b4eb40be-cc3a-4217-8c4e-2ae7ed9b81df",
   "metadata": {},
   "outputs": [],
   "source": []
  }
 ],
 "metadata": {
  "dependency_resolution_engine": "pipenv",
  "kernelspec": {
   "display_name": "Python 3 (ipykernel)",
   "language": "python",
   "name": "python3"
  },
  "language_info": {
   "codemirror_mode": {
    "name": "ipython",
    "version": 3
   },
   "file_extension": ".py",
   "mimetype": "text/x-python",
   "name": "python",
   "nbconvert_exporter": "python",
   "pygments_lexer": "ipython3",
   "version": "3.8.8"
  },
  "requirements": "{\"packages\":{\"boto3\":\"*\",\"botocore\":\"*\",\"pandas\":\"*\",\"anytree\":\"*\",\"python-dotenv\":\"*\",\"trino\":\"*\",\"sqlalchemy\":\"*\"},\"requires\":{\"python_version\":\"3.8\"},\"sources\":[{\"name\":\"pypi\",\"url\":\"https://pypi.org/simple\",\"verify_ssl\":true}]}",
  "requirements_lock": "{\"_meta\":{\"sources\":[{\"url\":\"https://pypi.org/simple\",\"verify_ssl\":true,\"name\":\"pypi\"}],\"requires\":{\"python_version\":\"3.8\"},\"hash\":{\"sha256\":\"f4ac0b4738ce9e94393a87e25004514af5cdcc57ac88d9e8cdf1540a9683dfdb\"},\"pipfile-spec\":6},\"default\":{\"anytree\":{\"version\":\"==2.8.0\",\"hashes\":[\"sha256:14c55ac77492b11532395049a03b773d14c7e30b22aa012e337b1e983de31521\",\"sha256:3f0f93f355a91bc3e6245319bf4c1d50e3416cc7a35cc1133c1ff38306bbccab\"],\"index\":\"pypi\"},\"boto3\":{\"version\":\"==1.19.12\",\"hashes\":[\"sha256:182a2b756a2c2180b473bc8452227062394a24e3701548be23ebc30d85976c64\",\"sha256:b9105554477978e80fda1103ff21ecf07502080667730e45383e1d3951c87954\"],\"index\":\"pypi\"},\"botocore\":{\"version\":\"==1.22.12\",\"hashes\":[\"sha256:1d1094fb53ebe4535d8840fbd7c14aadb65bde7ff03a65f9a4f1d76bd03e16ff\",\"sha256:fc59b55e8c5dde64b017b2f114c25f8cce397b667e812aea7eafb4b59b49d7cb\"],\"index\":\"pypi\"},\"certifi\":{\"version\":\"==2021.10.8\",\"hashes\":[\"sha256:78884e7c1d4b00ce3cea67b44566851c4343c120abd683433ce934a68ea58872\",\"sha256:d62a0163eb4c2344ac042ab2bdf75399a71a2d8c7d47eac2e2ee91b9d6339569\"]},\"charset-normalizer\":{\"version\":\"==2.0.7\",\"hashes\":[\"sha256:e019de665e2bcf9c2b64e2e5aa025fa991da8720daa3c1138cadd2fd1856aed0\",\"sha256:f7af805c321bfa1ce6714c51f254e0d5bb5e5834039bc17db7ebe3a4cec9492b\"],\"markers\":\"python_version >= '3'\"},\"greenlet\":{\"version\":\"==1.1.2\",\"hashes\":[\"sha256:00e44c8afdbe5467e4f7b5851be223be68adb4272f44696ee71fe46b7036a711\",\"sha256:013d61294b6cd8fe3242932c1c5e36e5d1db2c8afb58606c5a67efce62c1f5fd\",\"sha256:049fe7579230e44daef03a259faa24511d10ebfa44f69411d99e6a184fe68073\",\"sha256:14d4f3cd4e8b524ae9b8aa567858beed70c392fdec26dbdb0a8a418392e71708\",\"sha256:166eac03e48784a6a6e0e5f041cfebb1ab400b394db188c48b3a84737f505b67\",\"sha256:17ff94e7a83aa8671a25bf5b59326ec26da379ace2ebc4411d690d80a7fbcf23\",\"sha256:1e12bdc622676ce47ae9abbf455c189e442afdde8818d9da983085df6312e7a1\",\"sha256:21915eb821a6b3d9d8eefdaf57d6c345b970ad722f856cd71739493ce003ad08\",\"sha256:288c6a76705dc54fba69fbcb59904ae4ad768b4c768839b8ca5fdadec6dd8cfd\",\"sha256:32ca72bbc673adbcfecb935bb3fb1b74e663d10a4b241aaa2f5a75fe1d1f90aa\",\"sha256:356b3576ad078c89a6107caa9c50cc14e98e3a6c4874a37c3e0273e4baf33de8\",\"sha256:40b951f601af999a8bf2ce8c71e8aaa4e8c6f78ff8afae7b808aae2dc50d4c40\",\"sha256:572e1787d1460da79590bf44304abbc0a2da944ea64ec549188fa84d89bba7ab\",\"sha256:58df5c2a0e293bf665a51f8a100d3e9956febfbf1d9aaf8c0677cf70218910c6\",\"sha256:64e6175c2e53195278d7388c454e0b30997573f3f4bd63697f88d855f7a6a1fc\",\"sha256:7227b47e73dedaa513cdebb98469705ef0d66eb5a1250144468e9c3097d6b59b\",\"sha256:7418b6bfc7fe3331541b84bb2141c9baf1ec7132a7ecd9f375912eca810e714e\",\"sha256:7cbd7574ce8e138bda9df4efc6bf2ab8572c9aff640d8ecfece1b006b68da963\",\"sha256:7ff61ff178250f9bb3cd89752df0f1dd0e27316a8bd1465351652b1b4a4cdfd3\",\"sha256:833e1551925ed51e6b44c800e71e77dacd7e49181fdc9ac9a0bf3714d515785d\",\"sha256:8639cadfda96737427330a094476d4c7a56ac03de7265622fcf4cfe57c8ae18d\",\"sha256:8c790abda465726cfb8bb08bd4ca9a5d0a7bd77c7ac1ca1b839ad823b948ea28\",\"sha256:8d2f1fb53a421b410751887eb4ff21386d119ef9cde3797bf5e7ed49fb51a3b3\",\"sha256:903bbd302a2378f984aef528f76d4c9b1748f318fe1294961c072bdc7f2ffa3e\",\"sha256:93f81b134a165cc17123626ab8da2e30c0455441d4ab5576eed73a64c025b25c\",\"sha256:95e69877983ea39b7303570fa6760f81a3eec23d0e3ab2021b7144b94d06202d\",\"sha256:9633b3034d3d901f0a46b7939f8c4d64427dfba6bbc5a36b1a67364cf148a1b0\",\"sha256:97e5306482182170ade15c4b0d8386ded995a07d7cc2ca8f27958d34d6736497\",\"sha256:9f3cba480d3deb69f6ee2c1825060177a22c7826431458c697df88e6aeb3caee\",\"sha256:aa5b467f15e78b82257319aebc78dd2915e4c1436c3c0d1ad6f53e47ba6e2713\",\"sha256:abb7a75ed8b968f3061327c433a0fbd17b729947b400747c334a9c29a9af6c58\",\"sha256:aec52725173bd3a7b56fe91bc56eccb26fbdff1386ef123abb63c84c5b43b63a\",\"sha256:b11548073a2213d950c3f671aa88e6f83cda6e2fb97a8b6317b1b5b33d850e06\",\"sha256:b1692f7d6bc45e3200844be0dba153612103db241691088626a33ff1f24a0d88\",\"sha256:b92e29e58bef6d9cfd340c72b04d74c4b4e9f70c9fa7c78b674d1fec18896dc4\",\"sha256:be5f425ff1f5f4b3c1e33ad64ab994eed12fc284a6ea71c5243fd564502ecbe5\",\"sha256:dd0b1e9e891f69e7675ba5c92e28b90eaa045f6ab134ffe70b52e948aa175b3c\",\"sha256:e30f5ea4ae2346e62cedde8794a56858a67b878dd79f7df76a0767e356b1744a\",\"sha256:e6a36bb9474218c7a5b27ae476035497a6990e21d04c279884eb10d9b290f1b1\",\"sha256:e859fcb4cbe93504ea18008d1df98dee4f7766db66c435e4882ab35cf70cac43\",\"sha256:eb6ea6da4c787111adf40f697b4e58732ee0942b5d3bd8f435277643329ba627\",\"sha256:ec8c433b3ab0419100bd45b47c9c8551248a5aee30ca5e9d399a0b57ac04651b\",\"sha256:eff9d20417ff9dcb0d25e2defc2574d10b491bf2e693b4e491914738b7908168\",\"sha256:f0214eb2a23b85528310dad848ad2ac58e735612929c8072f6093f3585fd342d\",\"sha256:f276df9830dba7a333544bd41070e8175762a7ac20350786b322b714b0e654f5\",\"sha256:f3acda1924472472ddd60c29e5b9db0cec629fbe3c5c5accb74d6d6d14773478\",\"sha256:f70a9e237bb792c7cc7e44c531fd48f5897961701cdaa06cf22fc14965c496cf\",\"sha256:f9d29ca8a77117315101425ec7ec2a47a22ccf59f5593378fc4077ac5b754fce\",\"sha256:fa877ca7f6b48054f847b61d6fa7bed5cebb663ebc55e018fda12db09dcc664c\",\"sha256:fdcec0b8399108577ec290f55551d926d9a1fa6cad45882093a7a07ac5ec147b\"],\"markers\":\"python_version >= '3' and platform_machine == 'aarch64' or (platform_machine == 'ppc64le' or (platform_machine == 'x86_64' or (platform_machine == 'amd64' or (platform_machine == 'AMD64' or (platform_machine == 'win32' or platform_machine == 'WIN32')))))\"},\"idna\":{\"version\":\"==3.3\",\"hashes\":[\"sha256:84d9dd047ffa80596e0f246e2eab0b391788b0503584e8945f2368256d2735ff\",\"sha256:9d643ff0a55b762d5cdb124b8eaa99c66322e2157b69160bc32796e824360e6d\"],\"markers\":\"python_version >= '3'\"},\"jmespath\":{\"version\":\"==0.10.0\",\"hashes\":[\"sha256:b85d0567b8666149a93172712e68920734333c0ce7e89b78b3e987f71e5ed4f9\",\"sha256:cdf6525904cc597730141d61b36f2e4b8ecc257c420fa2f4549bac2c2d0cb72f\"],\"markers\":\"python_version >= '2.6' and python_version not in '3.0, 3.1, 3.2, 3.3'\"},\"numpy\":{\"version\":\"==1.21.4\",\"hashes\":[\"sha256:0b78ecfa070460104934e2caf51694ccd00f37d5e5dbe76f021b1b0b0d221823\",\"sha256:1247ef28387b7bb7f21caf2dbe4767f4f4175df44d30604d42ad9bd701ebb31f\",\"sha256:1403b4e2181fc72664737d848b60e65150f272fe5a1c1cbc16145ed43884065a\",\"sha256:170b2a0805c6891ca78c1d96ee72e4c3ed1ae0a992c75444b6ab20ff038ba2cd\",\"sha256:2e4ed57f45f0aa38beca2a03b6532e70e548faf2debbeb3291cfc9b315d9be8f\",\"sha256:32fe5b12061f6446adcbb32cf4060a14741f9c21e15aaee59a207b6ce6423469\",\"sha256:34f3456f530ae8b44231c63082c8899fe9c983fd9b108c997c4b1c8c2d435333\",\"sha256:4c9c23158b87ed0e70d9a50c67e5c0b3f75bcf2581a8e34668d4e9d7474d76c6\",\"sha256:5d95668e727c75b3f5088ec7700e260f90ec83f488e4c0aaccb941148b2cd377\",\"sha256:615d4e328af7204c13ae3d4df7615a13ff60a49cb0d9106fde07f541207883ca\",\"sha256:69077388c5a4b997442b843dbdc3a85b420fb693ec8e33020bb24d647c164fa5\",\"sha256:74b85a17528ca60cf98381a5e779fc0264b4a88b46025e6bcbe9621f46bb3e63\",\"sha256:81225e58ef5fce7f1d80399575576fc5febec79a8a2742e8ef86d7b03beef49f\",\"sha256:8890b3360f345e8360133bc078d2dacc2843b6ee6059b568781b15b97acbe39f\",\"sha256:92aafa03da8658609f59f18722b88f0a73a249101169e28415b4fa148caf7e41\",\"sha256:9864424631775b0c052f3bd98bc2712d131b3e2cd95d1c0c68b91709170890b0\",\"sha256:9e6f5f50d1eff2f2f752b3089a118aee1ea0da63d56c44f3865681009b0af162\",\"sha256:a3deb31bc84f2b42584b8c4001c85d1934dbfb4030827110bc36bfd11509b7bf\",\"sha256:ad010846cdffe7ec27e3f933397f8a8d6c801a48634f419e3d075db27acf5880\",\"sha256:b1e2312f5b8843a3e4e8224b2b48fe16119617b8fc0a54df8f50098721b5bed2\",\"sha256:bc988afcea53e6156546e5b2885b7efab089570783d9d82caf1cfd323b0bb3dd\",\"sha256:c449eb870616a7b62e097982c622d2577b3dbc800aaf8689254ec6e0197cbf1e\",\"sha256:c74c699b122918a6c4611285cc2cad4a3aafdb135c22a16ec483340ef97d573c\",\"sha256:c885bfc07f77e8fee3dc879152ba993732601f1f11de248d4f357f0ffea6a6d4\",\"sha256:e3c3e990274444031482a31280bf48674441e0a5b55ddb168f3a6db3e0c38ec8\",\"sha256:e4799be6a2d7d3c33699a6f77201836ac975b2e1b98c2a07f66a38f499cb50ce\",\"sha256:e6c76a87633aa3fa16614b61ccedfae45b91df2767cf097aa9c933932a7ed1e0\",\"sha256:e89717274b41ebd568cd7943fc9418eeb49b1785b66031bc8a7f6300463c5898\",\"sha256:f5162ec777ba7138906c9c274353ece5603646c6965570d82905546579573f73\",\"sha256:fde96af889262e85aa033f8ee1d3241e32bf36228318a61f1ace579df4e8170d\"],\"markers\":\"python_version < '3.10' and platform_machine != 'aarch64' and platform_machine != 'arm64'\"},\"pandas\":{\"version\":\"==1.3.4\",\"hashes\":[\"sha256:003ba92db58b71a5f8add604a17a059f3068ef4e8c0c365b088468d0d64935fd\",\"sha256:10e10a2527db79af6e830c3d5842a4d60383b162885270f8cffc15abca4ba4a9\",\"sha256:22808afb8f96e2269dcc5b846decacb2f526dd0b47baebc63d913bf847317c8f\",\"sha256:2d1dc09c0013d8faa7474574d61b575f9af6257ab95c93dcf33a14fd8d2c1bab\",\"sha256:35c77609acd2e4d517da41bae0c11c70d31c87aae8dd1aabd2670906c6d2c143\",\"sha256:372d72a3d8a5f2dbaf566a5fa5fa7f230842ac80f29a931fb4b071502cf86b9a\",\"sha256:42493f8ae67918bf129869abea8204df899902287a7f5eaf596c8e54e0ac7ff4\",\"sha256:4acc28364863127bca1029fb72228e6f473bb50c32e77155e80b410e2068eeac\",\"sha256:5298a733e5bfbb761181fd4672c36d0c627320eb999c59c65156c6a90c7e1b4f\",\"sha256:5ba0aac1397e1d7b654fccf263a4798a9e84ef749866060d19e577e927d66e1b\",\"sha256:9707bdc1ea9639c886b4d3be6e2a45812c1ac0c2080f94c31b71c9fa35556f9b\",\"sha256:a2aa18d3f0b7d538e21932f637fbfe8518d085238b429e4790a35e1e44a96ffc\",\"sha256:a388960f979665b447f0847626e40f99af8cf191bce9dc571d716433130cb3a7\",\"sha256:a51528192755f7429c5bcc9e80832c517340317c861318fea9cea081b57c9afd\",\"sha256:b528e126c13816a4374e56b7b18bfe91f7a7f6576d1aadba5dee6a87a7f479ae\",\"sha256:c1aa4de4919358c5ef119f6377bc5964b3a7023c23e845d9db7d9016fa0c5b1c\",\"sha256:c2646458e1dce44df9f71a01dc65f7e8fa4307f29e5c0f2f92c97f47a5bf22f5\",\"sha256:c2f44425594ae85e119459bb5abb0748d76ef01d9c08583a667e3339e134218e\",\"sha256:d47750cf07dee6b55d8423471be70d627314277976ff2edd1381f02d52dbadf9\",\"sha256:d99d2350adb7b6c3f7f8f0e5dfb7d34ff8dd4bc0a53e62c445b7e43e163fce63\",\"sha256:dd324f8ee05925ee85de0ea3f0d66e1362e8c80799eb4eb04927d32335a3e44a\",\"sha256:eaca36a80acaacb8183930e2e5ad7f71539a66805d6204ea88736570b2876a7b\",\"sha256:f567e972dce3bbc3a8076e0b675273b4a9e8576ac629149cf8286ee13c259ae5\",\"sha256:fe48e4925455c964db914b958f6e7032d285848b7538a5e1b19aeb26ffaea3ec\"],\"index\":\"pypi\"},\"python-dateutil\":{\"version\":\"==2.8.2\",\"hashes\":[\"sha256:0123cacc1627ae19ddf3c27a5de5bd67ee4586fbdd6440d9748f8abb483d3e86\",\"sha256:961d03dc3453ebbc59dbdea9e4e11c5651520a876d0f4db161e8674aae935da9\"],\"markers\":\"python_version >= '2.7' and python_version not in '3.0, 3.1, 3.2, 3.3'\"},\"python-dotenv\":{\"version\":\"==0.19.1\",\"hashes\":[\"sha256:14f8185cc8d494662683e6914addcb7e95374771e707601dfc70166946b4c4b8\",\"sha256:bbd3da593fc49c249397cbfbcc449cf36cb02e75afc8157fcc6a81df6fb7750a\"],\"index\":\"pypi\"},\"pytz\":{\"version\":\"==2021.3\",\"hashes\":[\"sha256:3672058bc3453457b622aab7a1c3bfd5ab0bdae451512f6cf25f64ed37f5b87c\",\"sha256:acad2d8b20a1af07d4e4c9d2e9285c5ed9104354062f275f3fcd88dcef4f1326\"]},\"requests\":{\"version\":\"==2.26.0\",\"hashes\":[\"sha256:6c1246513ecd5ecd4528a0906f910e8f0f9c6b8ec72030dc9fd154dc1a6efd24\",\"sha256:b8aa58f8cf793ffd8782d3d8cb19e66ef36f7aba4353eec859e74678b01b07a7\"],\"markers\":\"python_version >= '2.7' and python_version not in '3.0, 3.1, 3.2, 3.3, 3.4, 3.5'\"},\"s3transfer\":{\"version\":\"==0.5.0\",\"hashes\":[\"sha256:50ed823e1dc5868ad40c8dc92072f757aa0e653a192845c94a3b676f4a62da4c\",\"sha256:9c1dc369814391a6bda20ebbf4b70a0f34630592c9aa520856bf384916af2803\"],\"markers\":\"python_version >= '3.6'\"},\"six\":{\"version\":\"==1.16.0\",\"hashes\":[\"sha256:1e61c37477a1626458e36f7b1d82aa5c9b094fa4802892072e49de9c60c4c926\",\"sha256:8abb2f1d86890a2dfb989f9a77cfcfd3e47c2a354b01111771326f8aa26e0254\"],\"markers\":\"python_version >= '2.7' and python_version not in '3.0, 3.1, 3.2, 3.3'\"},\"sqlalchemy\":{\"version\":\"==1.4.26\",\"hashes\":[\"sha256:07ac4461a1116b317519ddf6f34bcb00b011b5c1370ebeaaf56595504ffc7e84\",\"sha256:090536fd23bf49077ee94ff97142bc5ee8bad24294c3d7c8d5284267c885dde7\",\"sha256:1dee515578d04bc80c4f9a8c8cfe93f455db725059e885f1b1da174d91c4d077\",\"sha256:1ef37c9ec2015ce2f0dc1084514e197f2f199d3dc3514190db7620b78e6004c8\",\"sha256:295b90efef1278f27fe27d94a45460ae3c17f5c5c2b32c163e29c359740a1599\",\"sha256:2ce42ad1f59eb85c55c44fb505f8854081ee23748f76b62a7f569cfa9b6d0604\",\"sha256:2feb028dc75e13ba93456a42ac042b255bf94dbd692bf80b47b22653bb25ccf8\",\"sha256:31f4426cfad19b5a50d07153146b2bcb372a279975d5fa39f98883c0ef0f3313\",\"sha256:3c0c5f54560a92691d54b0768d67b4d3159e514b426cfcb1258af8c195577e8f\",\"sha256:463ef692259ff8189be42223e433542347ae17e33f91c1013e9c5c64e2798088\",\"sha256:4a882dedb9dfa6f33524953c3e3d72bcf518a5defd6d5863150a821928b19ad3\",\"sha256:4c185c928e2638af9bae13acc3f70e0096eac76471a1101a10f96b80666b8270\",\"sha256:5039faa365e7522a8eb4736a54afd24a7e75dcc33b81ab2f0e6c456140f1ad64\",\"sha256:5c6774b34782116ad9bdec61c2dbce9faaca4b166a0bc8e7b03c2b870b121d94\",\"sha256:6bc7f9d7d90ef55e8c6db1308a8619cd8f40e24a34f759119b95e7284dca351a\",\"sha256:7e8ef103eaa72a857746fd57dda5b8b5961e8e82a528a3f8b7e2884d8506f0b7\",\"sha256:7ef421c3887b39c6f352e5022a53ac18de8387de331130481cb956b2d029cad6\",\"sha256:908fad32c53b17aad12d722379150c3c5317c422437e44032256a77df1746292\",\"sha256:91efbda4e6d311812f23996242bad7665c1392209554f8a31ec6db757456db5c\",\"sha256:a6506c17b0b6016656783232d0bdd03fd333f1f654d51a14d93223f953903646\",\"sha256:a95bf9c725012dcd7ea3cac16bf647054e0d62b31d67467d228338e6a163e4ff\",\"sha256:ad7e403fc1e3cb76e802872694e30d6ca6129b9bc6ad4e7caa48ca35f8a144f8\",\"sha256:b86f762cee3709722ab4691981958cbec475ea43406a6916a7ec375db9cbd9e9\",\"sha256:ba84026e84379326bbf2f0c50792f2ae56ab9c01937df5597b6893810b8ca369\",\"sha256:bca660b76672e15d70a7dba5e703e1ce451a0257b6bd2028e62b0487885e8ae9\",\"sha256:c24c01dcd03426a5fe5ee7af735906bec6084977b9027a3605d11d949a565c01\",\"sha256:c2f2114b0968a280f94deeeaa31cfbac9175e6ac7bd3058b3ce6e054ecd762b3\",\"sha256:c46f013ff31b80cbe36410281675e1fb4eaf3e25c284fd8a69981c73f6fa4cb4\",\"sha256:c757ba1279b85b3460e72e8b92239dae6f8b060a75fb24b3d9be984dd78cfa55\",\"sha256:cc6b21f19bc9d4cd77cbcba5f3b260436ce033f1053cea225b6efea2603d201e\",\"sha256:dbf588ab09e522ac2cbd010919a592c6aae2f15ccc3cd9a96d01c42fbc13f63e\",\"sha256:de996756d894a2d52c132742e3b6d64ecd37e0919ddadf4dc3981818777c7e67\",\"sha256:e700d48056475d077f867e6a36e58546de71bdb6fdc3d34b879e3240827fefab\",\"sha256:f1e97c5f36b94542f72917b62f3a2f92be914b2cf33b80fa69cede7529241d2a\",\"sha256:fb2aa74a6e3c2cebea38dd21633671841fbe70ea486053cba33d68e3e22ccc0a\",\"sha256:ff8f91a7b1c4a1c7772caa9efe640f2768828897044748f2458b708f1026e2d4\"],\"index\":\"pypi\"},\"trino\":{\"version\":\"==0.306.0\",\"hashes\":[\"sha256:67398bacffbcfbcbb8217769467f05c32eadd688c9aea6e301c1e2ba9be0052d\",\"sha256:910abe7f5c96bed7425e551d276636486b3319e45b5ae430ad2d7f301bf09d2a\"],\"index\":\"pypi\"},\"urllib3\":{\"version\":\"==1.26.7\",\"hashes\":[\"sha256:4987c65554f7a2dbf30c18fd48778ef124af6fab771a377103da0585e2336ece\",\"sha256:c4fdf4019605b6e5423637e01bc9fe4daef873709a7973e195ceba0a62bbc844\"],\"markers\":\"python_version >= '2.7' and python_version not in '3.0, 3.1, 3.2, 3.3, 3.4' and python_version < '4'\"}},\"develop\":{}}"
 },
 "nbformat": 4,
 "nbformat_minor": 5
}
