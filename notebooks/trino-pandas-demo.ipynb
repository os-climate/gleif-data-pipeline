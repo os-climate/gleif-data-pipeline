{
 "cells": [
  {
   "cell_type": "code",
   "execution_count": null,
   "id": "ee278cd4-28f3-4490-ada1-2412c957cca1",
   "metadata": {},
   "outputs": [],
   "source": [
    "#pip install trino urllib3 pandas"
   ]
  },
  {
   "cell_type": "code",
   "execution_count": null,
   "id": "790dac21-0f3f-4352-8840-dc2208ccc4f4",
   "metadata": {},
   "outputs": [],
   "source": [
    "# sqlalchemy-trino has an integration bug w/ trino api, possibly fixed but unreleased\n",
    "# also currently requires sqlalchemy 1.3, not 1.4\n",
    "# however if they get this fixed it might be another useful connection api\n",
    "#pip install --upgrade sqlalchemy==1.3 sqlalchemy-trino"
   ]
  },
  {
   "cell_type": "code",
   "execution_count": null,
   "id": "12298fe8-0daa-497a-8e73-715a66caed7b",
   "metadata": {},
   "outputs": [],
   "source": [
    "# This may not be compatible with installing sqlalchemy-trino\n",
    "#pip install 'pyhive[presto,trino]'\n",
    "# https://github.com/dropbox/PyHive"
   ]
  },
  {
   "cell_type": "code",
   "execution_count": null,
   "id": "5ec4c0c6-a6ac-4c4f-bd02-9ac6dad1c94f",
   "metadata": {
    "tags": []
   },
   "outputs": [],
   "source": [
    "# two possible apis to generate a trino connection:\n",
    "import trino\n",
    "from pyhive import presto\n",
    "\n",
    "# pandas dfs\n",
    "import pandas as pd\n",
    "\n",
    "import urllib3\n",
    "urllib3.disable_warnings()"
   ]
  },
  {
   "cell_type": "code",
   "execution_count": null,
   "id": "53100d78-e1c8-426e-b2f1-cab892ecfce3",
   "metadata": {},
   "outputs": [],
   "source": [
    "from dotenv import dotenv_values, load_dotenv\n",
    "import os\n",
    "import pathlib\n",
    "\n",
    "dotenv_dir = os.environ.get('CREDENTIAL_DOTENV_DIR', os.environ.get('PWD', '/opt/app-root/src'))\n",
    "dotenv_path = pathlib.Path(dotenv_dir) / 'credentials.env'\n",
    "if os.path.exists(dotenv_path):\n",
    "    load_dotenv(dotenv_path=dotenv_path,override=True)"
   ]
  },
  {
   "cell_type": "code",
   "execution_count": null,
   "id": "6b8fee53-c7b0-410e-898e-c6bad39211b8",
   "metadata": {},
   "outputs": [],
   "source": [
    "JWT_TOKEN = os.environ['TRINO_PASSWD']\n",
    "conn = trino.dbapi.connect(\n",
    "    host=os.environ['TRINO_HOST'],\n",
    "    port=int(os.environ['TRINO_PORT']),\n",
    "    user=os.environ['TRINO_USER'],\n",
    "    http_scheme='https',\n",
    "    auth=trino.auth.JWTAuthentication(JWT_TOKEN),\n",
    "    verify=True,\n",
    ")\n",
    "cur = conn.cursor()"
   ]
  },
  {
   "cell_type": "code",
   "execution_count": null,
   "id": "f20bec98-9efc-4e14-83cb-d887f86c8c12",
   "metadata": {},
   "outputs": [],
   "source": [
    "cur.execute('show catalogs')\n",
    "cur.fetchall()"
   ]
  },
  {
   "cell_type": "code",
   "execution_count": null,
   "id": "55e9c16a-1be1-4cb7-b3e2-c3f58b44b0a4",
   "metadata": {},
   "outputs": [],
   "source": [
    "# Show available schemas to ensure trino connection is set correctly\n",
    "cur.execute('show schemas in osc_datacommons_dev')\n",
    "cur.fetchall()"
   ]
  },
  {
   "cell_type": "code",
   "execution_count": null,
   "id": "ceb0b6c5-f3cd-456c-8ace-c573caed9de5",
   "metadata": {},
   "outputs": [],
   "source": [
    "cur.execute('show tables from osc_datacommons_dev.team1')\n",
    "cur.fetchall()"
   ]
  },
  {
   "cell_type": "code",
   "execution_count": null,
   "id": "b0365cf7-8ea3-4e12-aac1-5ebcd76066ea",
   "metadata": {
    "tags": []
   },
   "outputs": [],
   "source": [
    "# this doesn't work with connection from trino api\n",
    "# but it will work with connection from pyhive.presto, see below\n",
    "#catDF = pd.read_sql(\"select * from hive.team1.cat\", conn)"
   ]
  },
  {
   "cell_type": "code",
   "execution_count": null,
   "id": "d0a4bd4c-5999-46b4-a4fc-61dade24c3cd",
   "metadata": {},
   "outputs": [],
   "source": [
    "cur.execute('select * from osc_datacommons_dev.team1.cat')\n",
    "df = pd.DataFrame(cur.fetchall())\n",
    "\n",
    "# hack to move column names out of data\n",
    "df, df.columns = df[1:], df.iloc[0]\n",
    "df.reset_index(drop=True)\n",
    "\n",
    "# infer data types (these will be str)\n",
    "df = df.convert_dtypes()\n",
    "\n",
    "# convert length to int\n",
    "df['length'] = pd.to_numeric(df.length)\n",
    "\n",
    "df.head()"
   ]
  },
  {
   "cell_type": "code",
   "execution_count": null,
   "id": "a54344e6-0240-45ac-94ea-a9b0c07473b0",
   "metadata": {},
   "outputs": [],
   "source": [
    "# check column types\n",
    "df.dtypes"
   ]
  },
  {
   "cell_type": "markdown",
   "id": "51254a42-8d45-48ca-9b5b-f513fb0c6a00",
   "metadata": {},
   "source": [
    "## Using a pyhive.presto connection"
   ]
  },
  {
   "cell_type": "code",
   "execution_count": null,
   "id": "48e09ffb-5b3c-4e90-a764-163a78d6a228",
   "metadata": {},
   "outputs": [],
   "source": [
    "import pyhive.presto\n",
    "JWT_TOKEN = os.environ['TRINO_PASSWD']\n",
    "conn = presto.connect(\n",
    "    username = os.environ['TRINO_USER'],\n",
    "    password = ???,\n",
    "    host = os.environ['TRINO_HOST'],\n",
    "    port = int(os.environ['TRINO_PORT']),\n",
    "    protocol = 'https'\n",
    ")"
   ]
  },
  {
   "cell_type": "code",
   "execution_count": null,
   "id": "a0a19ca3-f5a1-4036-a215-31392a18eae4",
   "metadata": {},
   "outputs": [],
   "source": [
    "# With pyhive.presto you can load directly from the connection,\n",
    "# although resulting DF is same as from trino api\n",
    "df = pd.read_sql(\"select * from osc_datacommons_dev.team1.cat\", conn)\n",
    "df.head()"
   ]
  },
  {
   "cell_type": "markdown",
   "id": "961ac5ab-8f64-4ce2-8c6d-9574a665cf51",
   "metadata": {},
   "source": [
    "## **** Below is not working\n",
    "see:\n",
    "https://github.com/dungdm93/sqlalchemy-trino/issues/23"
   ]
  },
  {
   "cell_type": "code",
   "execution_count": null,
   "id": "0b838c38-d565-472c-b24a-a570b880c139",
   "metadata": {},
   "outputs": [],
   "source": [
    "sqlstring = 'trino://{user}:{passwd}@{host}:{port}/hive'.format(\n",
    "    user = trino_user,\n",
    "    passwd = trino_passwd,\n",
    "    host=trino_host,\n",
    "    port=trino_port\n",
    ")\n",
    "sqlstring"
   ]
  },
  {
   "cell_type": "code",
   "execution_count": null,
   "id": "9c273538-f3b1-4ae0-9335-a26ac46e1045",
   "metadata": {},
   "outputs": [],
   "source": [
    "import sqlalchemy\n",
    "engine = sqlalchemy.engine.create_engine(\n",
    "    sqlstring)"
   ]
  },
  {
   "cell_type": "code",
   "execution_count": null,
   "id": "d69381cf-1815-4cd9-bdfa-17065d36f3ec",
   "metadata": {
    "tags": []
   },
   "outputs": [],
   "source": [
    "df = pd.read_sql(\"select * from hive.team1.cat\", engine)"
   ]
  },
  {
   "cell_type": "code",
   "execution_count": null,
   "id": "e670f7a1-7952-4e7d-becb-864013f91d42",
   "metadata": {},
   "outputs": [],
   "source": [
    "import sqlalchemy\n",
    "\n",
    "sqlstring = 'trino://{user}:{passwd}@{host}:{port}/hive'.format( \\\n",
    "    user = trino_user, \\\n",
    "    passwd = trino_passwd, \\\n",
    "    host=trino_host, \\\n",
    "    port=trino_port\n",
    ")\n",
    "engine = sqlalchemy.create_engine(sqlstring)"
   ]
  },
  {
   "cell_type": "code",
   "execution_count": null,
   "id": "9bae46b1-b0e7-4647-a658-47d8f58c9e32",
   "metadata": {},
   "outputs": [],
   "source": [
    "# https://github.com/dungdm93/sqlalchemy-trino/issues/23\n",
    "pd.read_sql_query('select * from hive.team1.cat', sqlstring)"
   ]
  },
  {
   "cell_type": "code",
   "execution_count": null,
   "id": "c8b5653c-0a39-4f82-9781-9a45351cbfb7",
   "metadata": {},
   "outputs": [],
   "source": []
  }
 ],
 "metadata": {
  "kernelspec": {
   "display_name": "Python 3",
   "language": "python",
   "name": "python3"
  },
  "language_info": {
   "codemirror_mode": {
    "name": "ipython",
    "version": 3
   },
   "file_extension": ".py",
   "mimetype": "text/x-python",
   "name": "python",
   "nbconvert_exporter": "python",
   "pygments_lexer": "ipython3",
   "version": "3.8.3"
  }
 },
 "nbformat": 4,
 "nbformat_minor": 5
}
